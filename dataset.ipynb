{
 "cells": [
  {
   "cell_type": "code",
   "execution_count": 2,
   "metadata": {},
   "outputs": [],
   "source": [
    "import torch\n",
    "import cv2\n",
    "import numpy\n",
    "import matplotlib.pyplot as plt\n",
    "import torchvision\n",
    "import torchvision.datasets as datasets"
   ]
  },
  {
   "cell_type": "code",
   "execution_count": 4,
   "metadata": {},
   "outputs": [
    {
     "name": "stdout",
     "output_type": "stream",
     "text": [
      "torch.__version__ = '2.3.0+cu121'\n",
      "torchvision.__version__ = '0.18.0+cu121'\n"
     ]
    }
   ],
   "source": [
    "# load cifar dataset\n",
    "print(f\"{torch.__version__ = }\")\n",
    "print(f\"{torchvision.__version__ = }\")\n"
   ]
  },
  {
   "cell_type": "code",
   "execution_count": 5,
   "metadata": {},
   "outputs": [
    {
     "name": "stdout",
     "output_type": "stream",
     "text": [
      "Downloading https://www.cs.toronto.edu/~kriz/cifar-10-python.tar.gz to ./data\\cifar-10-python.tar.gz\n"
     ]
    },
    {
     "name": "stderr",
     "output_type": "stream",
     "text": [
      "100%|██████████| 170498071/170498071 [00:55<00:00, 3049471.07it/s]\n"
     ]
    },
    {
     "name": "stdout",
     "output_type": "stream",
     "text": [
      "Extracting ./data\\cifar-10-python.tar.gz to ./data\n"
     ]
    }
   ],
   "source": [
    "cifar_trainset = datasets.CIFAR10(root='./data', train=True, download=True, transform=None)"
   ]
  },
  {
   "cell_type": "code",
   "execution_count": 6,
   "metadata": {},
   "outputs": [
    {
     "name": "stdout",
     "output_type": "stream",
     "text": [
      "Files already downloaded and verified\n"
     ]
    }
   ],
   "source": [
    "cifar_testset = datasets.CIFAR10(root='./data', train=False, download=True, transform=None)"
   ]
  },
  {
   "cell_type": "code",
   "execution_count": 49,
   "metadata": {},
   "outputs": [],
   "source": [
    "from torch.utils.data import Dataset\n",
    "import os\n",
    "import numpy as np \n",
    "import pickle\n",
    "from PIL import Image\n",
    "from torchvision.transforms import Compose, ToTensor\n",
    "class CIFAR10(Dataset):\n",
    "    def __init__(self, root, train, transform=None):\n",
    "        self.root = root\n",
    "        self.train = train\n",
    "        self.transform = transform\n",
    "        \n",
    "        # get files\n",
    "        train_split = [file for file in os.listdir(self.root) if \"data_batch\" in file]\n",
    "        test_split = [file for file in os.listdir(self.root) if \"test_batch\" in file]\n",
    "        \n",
    "        split_to_use = train_split if self.train else test_split\n",
    "        \n",
    "        self.data = []\n",
    "        self.labels = []\n",
    "        \n",
    "        for batch in split_to_use:\n",
    "            batch_data = self.load(os.path.join(self.root, batch))\n",
    "            self.data.append(batch_data[\"data\"])\n",
    "            self.labels.extend(batch_data[\"labels\"])\n",
    "        \n",
    "        \n",
    "        self.data = np.vstack(self.data)\n",
    "        self.data = self.data.reshape(-1, 3, 32, 32)\n",
    "        self.data = self.data.transpose(0, 2, 3, 1)\n",
    "        self.load_info()\n",
    "        \n",
    "    def load(self, file_name):\n",
    "        with open(file_name, \"rb\") as file:\n",
    "            data = pickle.load(file, encoding=\"latin1\")\n",
    "        return data\n",
    "    def load_info(self):\n",
    "        file_path = os.path.join(self.root, \"batches.meta\")\n",
    "        with open(file_path, \"rb\") as file:\n",
    "            data = pickle.load(file, encoding=\"latin1\")\n",
    "            self.classes = data[\"label_names\"]\n",
    "            # get class to index and index to class\n",
    "            self.class_to_index = {cls: i for i, cls in enumerate(self.classes)}\n",
    "            self.index_to_class = {i: cls for cls, i in self.class_to_index.items()}\n",
    "             \n",
    "    def display(self, img_idx, label=True):\n",
    "        img, label = self[img_idx]\n",
    "        plt.figure(figsize=(3, 3))\n",
    "        # change to W X H X C\n",
    "        new_img = img.permute(1, 2, 0)\n",
    "        plt.imshow(new_img)\n",
    "        plt.grid(visible=False)\n",
    "        plt.axis(\"off\")\n",
    "        if label:\n",
    "            plt.title(f\"Label = {self.index_to_class[label]}\")\n",
    "        plt.show()\n",
    "        \n",
    "    def __len__(self):\n",
    "        return len(self.data)\n",
    "    \n",
    "    def __getitem__(self, idx):\n",
    "        image, label = self.data[idx], self.labels[idx]\n",
    "        image = Image.fromarray(image)\n",
    "        \n",
    "        if self.transform:\n",
    "            image = self.transform(image)\n",
    "        \n",
    "        return image, label\n",
    "        "
   ]
  },
  {
   "cell_type": "code",
   "execution_count": 50,
   "metadata": {},
   "outputs": [],
   "source": [
    "transforms = Compose([\n",
    "    ToTensor()\n",
    "])\n",
    "\n",
    "train_set = CIFAR10(root=\"./data/cifar-10-batches-py\", \n",
    "        train=True, transform = transforms)\n",
    "test_set = CIFAR10(root=\"./data/cifar-10-batches-py\", \n",
    "        train=False, transform = transforms)"
   ]
  },
  {
   "cell_type": "code",
   "execution_count": 117,
   "metadata": {},
   "outputs": [
    {
     "data": {
      "image/png": "[encoded data removed]",
      "text/plain": [
       "<Figure size 300x300 with 1 Axes>"
      ]
     },
     "metadata": {},
     "output_type": "display_data"
    }
   ],
   "source": [
    "train_set.display(2, True)"
   ]
  },
  {
   "cell_type": "code",
   "execution_count": 124,
   "metadata": {},
   "outputs": [
    {
     "data": {
      "image/png": "[encoded data removed]",
      "text/plain": [
       "<Figure size 400x400 with 16 Axes>"
      ]
     },
     "metadata": {},
     "output_type": "display_data"
    }
   ],
   "source": [
    "# split images into patches\n",
    "import torch.nn.functional as F \n",
    "\n",
    "patch_size = 8\n",
    "stride = 8\n",
    "\n",
    "images, label = train_set[2]\n",
    "\n",
    "# resize_transform = torchvision.transforms.Resize((72, 72))\n",
    "# images = resize_transform(images)\n",
    "# images = images.unsqueeze(0)\n",
    "# print(f\"{images.shape = }\")\n",
    "patches = images.unfold(1, patch_size, stride).unfold(2, patch_size, stride).contiguous()\n",
    "image_size = 32\n",
    "patches = patches.view(-1, (image_size//patch_size)**2, patch_size, patch_size)\n",
    "patches = patches.permute(1, 0, 2, 3)\n",
    "\n",
    "plt.figure(figsize=(4, 4))\n",
    "# patches = patches.permute(0, 2, 1)\n",
    "# patches = patches.view(images.size(0), -1, images.size(1), patch_size, patch_size)\n",
    "n = int(np.sqrt(patches.shape[0]))\n",
    "patches = patches.squeeze(0)\n",
    "for i, patch in enumerate(patches):\n",
    "    ax = plt.subplot(n, n, i+1)\n",
    "    patch_img = patch.permute(1, 2, 0)\n",
    "    plt.imshow(patch_img.numpy(), cmap=\"gray\")\n",
    "    plt.axis(\"off\")"
   ]
  },
  {
   "cell_type": "code",
   "execution_count": null,
   "metadata": {},
   "outputs": [],
   "source": []
  }
 ],
 "metadata": {
  "kernelspec": {
   "display_name": "torch_env",
   "language": "python",
   "name": "python3"
  },
  "language_info": {
   "codemirror_mode": {
    "name": "ipython",
    "version": 3
   },
   "file_extension": ".py",
   "mimetype": "text/x-python",
   "name": "python",
   "nbconvert_exporter": "python",
   "pygments_lexer": "ipython3",
   "version": "3.9.19"
  }
 },
 "nbformat": 4,
 "nbformat_minor": 2
}
